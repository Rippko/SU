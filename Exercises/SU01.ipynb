{
  "nbformat": 4,
  "nbformat_minor": 0,
  "metadata": {
    "colab": {
      "provenance": []
    },
    "kernelspec": {
      "name": "python3",
      "display_name": "Python 3"
    },
    "language_info": {
      "name": "python"
    }
  },
  "cells": [
    {
      "cell_type": "code",
      "execution_count": 17,
      "metadata": {
        "colab": {
          "base_uri": "https://localhost:8080/"
        },
        "id": "CEL7TNEILbBq",
        "outputId": "da969e71-b785-418e-a143-d58fc49fe4e0"
      },
      "outputs": [
        {
          "output_type": "stream",
          "name": "stdout",
          "text": [
            "Binary matrix:\n",
            "[[1 1 0 0 1]\n",
            " [1 0 0 1 1]\n",
            " [1 0 1 0 0]\n",
            " [0 1 1 1 0]\n",
            " [0 1 1 0 1]\n",
            " [0 0 0 1 1]\n",
            " [1 0 1 1 1]\n",
            " [1 1 0 0 1]\n",
            " [1 0 1 0 1]\n",
            " [1 0 0 0 0]]\n",
            "Column 0: 7\n",
            "Column 1: 4\n",
            "Column 2: 5\n",
            "Column 3: 4\n",
            "Column 4: 7\n",
            "[(1, 0.7), (2, 0.4), (3, 0.5), (4, 0.4), (5, 0.7)]\n"
          ]
        }
      ],
      "source": [
        "import numpy as np\n",
        "\n",
        "test = [\n",
        "        {1, 2, 5},\n",
        "        {1, 4, 5},\n",
        "        {1, 3},\n",
        "        {2, 3, 4},\n",
        "        {2, 3, 5},\n",
        "        {4, 5},\n",
        "        {1, 3, 4, 5},\n",
        "        {1, 2, 5},\n",
        "        {1, 3, 5},\n",
        "        {1}\n",
        "        ]\n",
        "\n",
        "\n",
        "def binary_matrix(list_of_sets):\n",
        "  all_items = sorted(set().union(*list_of_sets))\n",
        "\n",
        "  binary_matrix = np.zeros((len(list_of_sets), len(all_items)), dtype=int)\n",
        "\n",
        "  for i, itemset in enumerate(list_of_sets):\n",
        "      for j, item in enumerate(all_items):\n",
        "          if item in itemset:\n",
        "              binary_matrix[i][j] = 1\n",
        "\n",
        "  print(\"Binary matrix:\")\n",
        "  print(binary_matrix)\n",
        "  return binary_matrix\n",
        "\n",
        "def calculate_support(row_count, rows_total, min_support=0.25):\n",
        "  support = row_count / rows_total\n",
        "  if support >= min_support:\n",
        "    return support\n",
        "  else:\n",
        "    return 0\n",
        "\n",
        "def detect_frequent_itemsets(binary_matrix, min_support=0.25):\n",
        "  rows_total = binary_matrix.shape[0]\n",
        "  frequent_itemsets = []\n",
        "  for i in range(binary_matrix.shape[1]):\n",
        "    support = calculate_support(binary_matrix[:, i].sum(), rows_total, min_support)\n",
        "    print(f\"Column {i}: {binary_matrix[:, i].sum()}\")\n",
        "    if support > 0:\n",
        "      frequent_itemsets.append((i + 1, support))\n",
        "  return frequent_itemsets\n",
        "\n",
        "frequent_itemsets = detect_frequent_itemsets(binary_matrix(test))\n",
        "print(frequent_itemsets)\n",
        "\n",
        "\n",
        "\n",
        "\n",
        "\n"
      ]
    },
    {
      "cell_type": "code",
      "source": [],
      "metadata": {
        "id": "0mlMzSKfM4EN"
      },
      "execution_count": null,
      "outputs": []
    }
  ]
}